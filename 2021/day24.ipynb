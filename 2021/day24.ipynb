{
 "cells": [
  {
   "cell_type": "code",
   "execution_count": 1,
   "id": "bc574e83-c463-4ac2-9b4f-95a54facc02b",
   "metadata": {},
   "outputs": [],
   "source": [
    "from day24 import run_program, convert_model_number\n",
    "import day24_2\n",
    "\n",
    "program = open('day24_input.txt', 'r').read().splitlines()"
   ]
  },
  {
   "cell_type": "code",
   "execution_count": 5,
   "id": "3c57ebe4-b246-47e6-ada9-e2a03b266e5d",
   "metadata": {},
   "outputs": [
    {
     "data": {
      "text/plain": [
       "{'w': 7, 'x': 0, 'y': 0, 'z': 0}"
      ]
     },
     "execution_count": 5,
     "metadata": {},
     "output_type": "execute_result"
    }
   ],
   "source": [
    "run_program(program, convert_model_number(95_299_897_999_897))"
   ]
  },
  {
   "cell_type": "code",
   "execution_count": 6,
   "id": "cb09bc64-03c5-4dfa-85fd-ea0fada4fff7",
   "metadata": {},
   "outputs": [
    {
     "data": {
      "text/plain": [
       "{'w': 7, 'x': 0, 'y': 0, 'z': 0}"
      ]
     },
     "execution_count": 6,
     "metadata": {},
     "output_type": "execute_result"
    }
   ],
   "source": [
    "run_program(program, convert_model_number(95299897999897))"
   ]
  },
  {
   "cell_type": "code",
   "execution_count": 7,
   "id": "1a820de2-fdc9-4e3d-b1f8-d988274e78f4",
   "metadata": {},
   "outputs": [
    {
     "data": {
      "text/plain": [
       "{'w': 1, 'x': 0, 'y': 0, 'z': 0}"
      ]
     },
     "execution_count": 7,
     "metadata": {},
     "output_type": "execute_result"
    }
   ],
   "source": [
    "run_program(program, convert_model_number(31_111_121_382_151))"
   ]
  },
  {
   "cell_type": "code",
   "execution_count": 8,
   "id": "1f740903-c16c-4258-89dd-bb2b7eaa3801",
   "metadata": {},
   "outputs": [
    {
     "data": {
      "text/plain": [
       "{'w': 1, 'x': 0, 'y': 0, 'z': 0}"
      ]
     },
     "execution_count": 8,
     "metadata": {},
     "output_type": "execute_result"
    }
   ],
   "source": [
    "run_program(program, convert_model_number(31111121382151))"
   ]
  },
  {
   "cell_type": "code",
   "execution_count": null,
   "id": "fe308119-f338-4678-9118-a327e009467e",
   "metadata": {},
   "outputs": [],
   "source": [
    "run_program(program, convert_model_number(11_111_111_111_111))"
   ]
  },
  {
   "cell_type": "code",
   "execution_count": null,
   "id": "3a09253f-f81b-4584-a0d9-a3e90b247f1f",
   "metadata": {},
   "outputs": [],
   "source": [
    "run_program(program, convert_model_number(22_222_222_222_222))"
   ]
  },
  {
   "cell_type": "code",
   "execution_count": 3,
   "id": "e39e8a16-c5a2-4943-a99a-3954a62270f2",
   "metadata": {},
   "outputs": [
    {
     "data": {
      "text/plain": [
       "[{'w': 1, 'x': 1, 'y': 8, 'z': 8},\n",
       " {'w': 2, 'x': 1, 'y': 9, 'z': 9},\n",
       " {'w': 3, 'x': 1, 'y': 10, 'z': 10},\n",
       " {'w': 4, 'x': 1, 'y': 11, 'z': 11},\n",
       " {'w': 5, 'x': 1, 'y': 12, 'z': 12},\n",
       " {'w': 6, 'x': 1, 'y': 13, 'z': 13},\n",
       " {'w': 7, 'x': 1, 'y': 14, 'z': 14},\n",
       " {'w': 8, 'x': 1, 'y': 15, 'z': 15},\n",
       " {'w': 9, 'x': 1, 'y': 16, 'z': 16}]"
      ]
     },
     "execution_count": 3,
     "metadata": {},
     "output_type": "execute_result"
    }
   ],
   "source": [
    "[run_program(program, convert_model_number(i)) for i in range(1, 10)] "
   ]
  },
  {
   "cell_type": "code",
   "execution_count": 5,
   "id": "815b6ec4-1127-46c9-992c-69206708291d",
   "metadata": {},
   "outputs": [
    {
     "data": {
      "text/plain": [
       "[{'w': 1, 'x': 1, 'y': 9, 'z': 217},\n",
       " {'w': 2, 'x': 1, 'y': 10, 'z': 218},\n",
       " {'w': 3, 'x': 1, 'y': 11, 'z': 219},\n",
       " {'w': 4, 'x': 1, 'y': 12, 'z': 220},\n",
       " {'w': 5, 'x': 1, 'y': 13, 'z': 221},\n",
       " {'w': 6, 'x': 1, 'y': 14, 'z': 222},\n",
       " {'w': 7, 'x': 1, 'y': 15, 'z': 223},\n",
       " {'w': 8, 'x': 1, 'y': 16, 'z': 224},\n",
       " {'w': 9, 'x': 1, 'y': 17, 'z': 225}]"
      ]
     },
     "execution_count": 5,
     "metadata": {},
     "output_type": "execute_result"
    }
   ],
   "source": [
    "[run_program(program, convert_model_number(10 + i)) for i in range(1, 10)] "
   ]
  },
  {
   "cell_type": "code",
   "execution_count": 6,
   "id": "133a3c67-efe7-4937-ae2f-2e96c51cbd4b",
   "metadata": {},
   "outputs": [
    {
     "data": {
      "text/plain": [
       "[{'w': 1, 'x': 1, 'y': 17, 'z': 5815},\n",
       " {'w': 2, 'x': 1, 'y': 18, 'z': 5816},\n",
       " {'w': 3, 'x': 1, 'y': 19, 'z': 5817},\n",
       " {'w': 4, 'x': 1, 'y': 20, 'z': 5818},\n",
       " {'w': 5, 'x': 1, 'y': 21, 'z': 5819},\n",
       " {'w': 6, 'x': 1, 'y': 22, 'z': 5820},\n",
       " {'w': 7, 'x': 1, 'y': 23, 'z': 5821},\n",
       " {'w': 8, 'x': 1, 'y': 24, 'z': 5822},\n",
       " {'w': 9, 'x': 1, 'y': 25, 'z': 5823}]"
      ]
     },
     "execution_count": 6,
     "metadata": {},
     "output_type": "execute_result"
    }
   ],
   "source": [
    "[run_program(program, convert_model_number(170 + i)) for i in range(1, 10)] "
   ]
  },
  {
   "cell_type": "code",
   "execution_count": null,
   "id": "bae5ee5b-deb8-471a-8872-8d73dce2d1cd",
   "metadata": {},
   "outputs": [],
   "source": [
    "[run_program(program, convert_model_number(i * 100 + 33)) for i in range(1, 10)] "
   ]
  },
  {
   "cell_type": "code",
   "execution_count": null,
   "id": "bc55b8a2-dc20-44d3-9e7d-3b8aa5f380ca",
   "metadata": {},
   "outputs": [],
   "source": [
    "[run_program(program, convert_model_number(i * 1000 + 111)) for i in range(1, 10)] "
   ]
  },
  {
   "cell_type": "code",
   "execution_count": null,
   "id": "1f3d012f-61d1-45b4-8735-293384ca5bf9",
   "metadata": {},
   "outputs": [],
   "source": [
    "[run_program(program, convert_model_number(i * 10_000 + 2_111)) for i in range(1, 10)] "
   ]
  },
  {
   "cell_type": "code",
   "execution_count": null,
   "id": "251f50dd-82a2-4550-b77f-f58e93cb65a7",
   "metadata": {},
   "outputs": [],
   "source": [
    "[run_program(program, convert_model_number(i * 10_000_000_000_000 + 1_111_111_111_111)) for i in range(1, 10)]"
   ]
  },
  {
   "cell_type": "code",
   "execution_count": 2,
   "id": "a30036d8-79c5-4a19-81b3-9bdedf19a11b",
   "metadata": {},
   "outputs": [
    {
     "name": "stdout",
     "output_type": "stream",
     "text": [
      "\n",
      " ----- input ----- \n",
      "\n",
      "{'w': 'a', 'x': 0, 'y': 0, 'z': 0}\n",
      "(x := ((z % 26) + 11) w)\n",
      "(x := 0 0)\n",
      "\n",
      " ----- input ----- \n",
      "\n",
      "{'w': 'b', 'x': 0, 'y': 0, 'z': '(z * 1)'}\n",
      "(x := ((z % 26) + 14) w)\n",
      "(x := 0 0)\n",
      "\n",
      " ----- input ----- \n",
      "\n",
      "{'w': 'c', 'x': 0, 'y': 0, 'z': '(z * 1)'}\n",
      "(x := ((z % 26) + 10) w)\n",
      "(x := 0 0)\n",
      "\n",
      " ----- input ----- \n",
      "\n",
      "{'w': 'd', 'x': 0, 'y': 0, 'z': '(z * 1)'}\n",
      "(x := ((z % 26) + 14) w)\n",
      "(x := 0 0)\n",
      "\n",
      " ----- input ----- \n",
      "\n",
      "{'w': 'e', 'x': 0, 'y': 0, 'z': '(z * 1)'}\n",
      "(x := ((z % 26) + -8) w)\n",
      "(x := 0 0)\n",
      "\n",
      " ----- input ----- \n",
      "\n",
      "{'w': 'f', 'x': 0, 'y': 0, 'z': '((z / 26) * 1)'}\n",
      "(x := ((z % 26) + 14) w)\n",
      "(x := 0 0)\n",
      "\n",
      " ----- input ----- \n",
      "\n",
      "{'w': 'g', 'x': 0, 'y': 0, 'z': '(z * 1)'}\n",
      "(x := ((z % 26) + -11) w)\n",
      "(x := 0 0)\n",
      "\n",
      " ----- input ----- \n",
      "\n",
      "{'w': 'h', 'x': 0, 'y': 0, 'z': '((z / 26) * 1)'}\n",
      "(x := ((z % 26) + 10) w)\n",
      "(x := 0 0)\n",
      "\n",
      " ----- input ----- \n",
      "\n",
      "{'w': 'i', 'x': 0, 'y': 0, 'z': '(z * 1)'}\n",
      "(x := ((z % 26) + -6) w)\n",
      "(x := 0 0)\n",
      "\n",
      " ----- input ----- \n",
      "\n",
      "{'w': 'j', 'x': 0, 'y': 0, 'z': '((z / 26) * 1)'}\n",
      "(x := ((z % 26) + -9) w)\n",
      "(x := 0 0)\n",
      "\n",
      " ----- input ----- \n",
      "\n",
      "{'w': 'k', 'x': 0, 'y': 0, 'z': '((z / 26) * 1)'}\n",
      "(x := ((z % 26) + 12) w)\n",
      "(x := 0 0)\n",
      "\n",
      " ----- input ----- \n",
      "\n",
      "{'w': 'l', 'x': 0, 'y': 0, 'z': '(z * 1)'}\n",
      "(x := ((z % 26) + -5) w)\n",
      "(x := 0 0)\n",
      "\n",
      " ----- input ----- \n",
      "\n",
      "{'w': 'm', 'x': 0, 'y': 0, 'z': '((z / 26) * 1)'}\n",
      "(x := ((z % 26) + -4) w)\n",
      "(x := 0 0)\n",
      "\n",
      " ----- input ----- \n",
      "\n",
      "{'w': 'n', 'x': 0, 'y': 0, 'z': '((z / 26) * 1)'}\n",
      "(x := ((z % 26) + -9) w)\n",
      "(x := 0 0)\n"
     ]
    },
    {
     "data": {
      "text/plain": [
       "{'w': 'w', 'x': 0, 'y': 0, 'z': '((z / 26) * 1)'}"
      ]
     },
     "execution_count": 2,
     "metadata": {},
     "output_type": "execute_result"
    }
   ],
   "source": [
    "def inputs(): yield from 'abcdefghijklmn'\n",
    "\n",
    "day24_2.run_program(program, inputs())"
   ]
  },
  {
   "cell_type": "code",
   "execution_count": null,
   "id": "cc637a2e-3d58-4756-a402-ddad934323f8",
   "metadata": {},
   "outputs": [],
   "source": []
  },
  {
   "cell_type": "code",
   "execution_count": null,
   "id": "54caa83f-59d5-4ef2-8962-195dfe63a967",
   "metadata": {},
   "outputs": [],
   "source": [
    "len('abcdefghijklmn')"
   ]
  },
  {
   "cell_type": "markdown",
   "id": "121fe9c3-1126-421a-b14f-77f20fd0c273",
   "metadata": {},
   "source": [
    " 0. PUSH input_00 + 7\n",
    " 1. PUSH input_01 + 8\n",
    " 2. PUSH input_02 + 16\n",
    " 3. PUSH input_03 + 8\n",
    " 4. POP  input_04 = pop - 8\n",
    " 5. PUSH input_05 + 12\n",
    " 6. POP  input_06 = pop - 11\n",
    " 7. PUSH input_07 + 8\n",
    " 8. POP  input_08 = pop - 6\n",
    " 9. POP  input_09 = pop - 9\n",
    "10. PUSH input_10 + 4\n",
    "11. POP  input_11 - 5\n",
    "12. POP  input_12 - 4\n",
    "13. POP  input_13 - 9"
   ]
  },
  {
   "cell_type": "markdown",
   "id": "11371d2b-1d7b-415c-a581-d94ddab8dadf",
   "metadata": {},
   "source": [
    "Rules:\n",
    "\n",
    "```python\n",
    "input[4] = input[3]\n",
    "input[6] = input[5] + 12 - 11 = input[5] + 1\n",
    "input[8] = input[7] + 8 - 6 = input[7] + 2\n",
    "input[9] = input[2] + 16 - 9 = input[2] - 7\n",
    "input[11] = input[10] + 4 - 5 = input[10] - 1\n",
    "input[12] = input[1] + 8 - 4 = input[1] + 4\n",
    "input[13] = input[0] + 7 - 9 = input[0] - 2\n",
    "```"
   ]
  },
  {
   "cell_type": "code",
   "execution_count": null,
   "id": "6a900054-efde-4b71-a2ac-69612ed942a6",
   "metadata": {},
   "outputs": [],
   "source": []
  }
 ],
 "metadata": {
  "kernelspec": {
   "display_name": "Python 3 (ipykernel)",
   "language": "python",
   "name": "python3"
  },
  "language_info": {
   "codemirror_mode": {
    "name": "ipython",
    "version": 3
   },
   "file_extension": ".py",
   "mimetype": "text/x-python",
   "name": "python",
   "nbconvert_exporter": "python",
   "pygments_lexer": "ipython3",
   "version": "3.9.5"
  }
 },
 "nbformat": 4,
 "nbformat_minor": 5
}
