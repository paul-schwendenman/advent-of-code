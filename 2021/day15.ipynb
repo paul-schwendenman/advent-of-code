{
 "cells": [
  {
   "cell_type": "code",
   "execution_count": 5,
   "id": "c47b6cac-3057-4499-8114-8a8afa28d7dc",
   "metadata": {},
   "outputs": [],
   "source": [
    "options = [[1,6,3], [4, 5]]"
   ]
  },
  {
   "cell_type": "code",
   "execution_count": 6,
   "id": "d230cb4a-6777-4839-94f7-68b11c1031af",
   "metadata": {},
   "outputs": [
    {
     "data": {
      "text/plain": [
       "[[4, 5], [1, 6, 3]]"
      ]
     },
     "execution_count": 6,
     "metadata": {},
     "output_type": "execute_result"
    }
   ],
   "source": [
    "sorted(options, key=lambda item: sum(item))"
   ]
  },
  {
   "cell_type": "code",
   "execution_count": null,
   "id": "6526cc8a-923e-4303-af9c-b44d1ef03412",
   "metadata": {},
   "outputs": [],
   "source": []
  }
 ],
 "metadata": {
  "kernelspec": {
   "display_name": "Python 3 (ipykernel)",
   "language": "python",
   "name": "python3"
  },
  "language_info": {
   "codemirror_mode": {
    "name": "ipython",
    "version": 3
   },
   "file_extension": ".py",
   "mimetype": "text/x-python",
   "name": "python",
   "nbconvert_exporter": "python",
   "pygments_lexer": "ipython3",
   "version": "3.9.5"
  }
 },
 "nbformat": 4,
 "nbformat_minor": 5
}
