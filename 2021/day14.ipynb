{
 "cells": [
  {
   "cell_type": "code",
   "execution_count": 4,
   "id": "75ded0b6-e247-44cf-8526-7ebea8f2e5b6",
   "metadata": {},
   "outputs": [],
   "source": [
    "from collections import Counter, defaultdict"
   ]
  },
  {
   "cell_type": "code",
   "execution_count": 54,
   "id": "de770d51-79c3-434e-81c6-ce400c4b4fa3",
   "metadata": {},
   "outputs": [],
   "source": [
    "raw_input = '''KFFNFNNBCNOBCNPFVKCP\n",
    "\n",
    "PB -> F\n",
    "KC -> F\n",
    "OB -> H\n",
    "HV -> N\n",
    "FS -> S\n",
    "CK -> K\n",
    "CC -> V\n",
    "HF -> K\n",
    "VP -> C\n",
    "CP -> S\n",
    "HO -> N\n",
    "OS -> N\n",
    "HS -> O\n",
    "HB -> F\n",
    "OH -> V\n",
    "PP -> B\n",
    "BS -> N\n",
    "VS -> F\n",
    "CN -> B\n",
    "KB -> O\n",
    "KH -> B\n",
    "SS -> K\n",
    "NS -> B\n",
    "BP -> V\n",
    "FB -> S\n",
    "PV -> O\n",
    "NB -> S\n",
    "FC -> F\n",
    "VB -> P\n",
    "PC -> O\n",
    "VF -> K\n",
    "BV -> K\n",
    "OO -> B\n",
    "PN -> N\n",
    "NH -> H\n",
    "SP -> B\n",
    "KF -> O\n",
    "BN -> F\n",
    "OF -> C\n",
    "VV -> H\n",
    "BB -> P\n",
    "KN -> H\n",
    "PO -> C\n",
    "BH -> O\n",
    "HC -> B\n",
    "VO -> O\n",
    "FV -> B\n",
    "PK -> V\n",
    "KO -> H\n",
    "BK -> V\n",
    "SC -> S\n",
    "KV -> B\n",
    "OV -> S\n",
    "HK -> F\n",
    "NP -> V\n",
    "VH -> P\n",
    "OK -> S\n",
    "SO -> C\n",
    "PF -> C\n",
    "SH -> N\n",
    "FP -> V\n",
    "CS -> C\n",
    "HH -> O\n",
    "KK -> P\n",
    "BF -> S\n",
    "NN -> O\n",
    "OC -> C\n",
    "CB -> O\n",
    "BO -> V\n",
    "ON -> F\n",
    "BC -> P\n",
    "NO -> N\n",
    "KS -> H\n",
    "FF -> V\n",
    "FN -> V\n",
    "HP -> N\n",
    "VC -> F\n",
    "OP -> K\n",
    "VN -> S\n",
    "NV -> F\n",
    "SV -> F\n",
    "FO -> V\n",
    "PS -> H\n",
    "VK -> O\n",
    "PH -> P\n",
    "NF -> N\n",
    "KP -> S\n",
    "CF -> S\n",
    "FK -> P\n",
    "FH -> F\n",
    "CO -> H\n",
    "SN -> B\n",
    "NC -> H\n",
    "SK -> P\n",
    "CV -> P\n",
    "CH -> H\n",
    "HN -> N\n",
    "SB -> H\n",
    "NK -> B\n",
    "SF -> H\n",
    "'''"
   ]
  },
  {
   "cell_type": "code",
   "execution_count": 32,
   "id": "67feb9bc-b8d2-4575-88fd-140be5ce82b6",
   "metadata": {},
   "outputs": [],
   "source": [
    "raw_input = '''NNCB\n",
    "\n",
    "CH -> B\n",
    "HH -> N\n",
    "CB -> H\n",
    "NH -> C\n",
    "HB -> C\n",
    "HC -> B\n",
    "HN -> C\n",
    "NN -> C\n",
    "BH -> H\n",
    "NC -> B\n",
    "NB -> B\n",
    "BN -> B\n",
    "BB -> N\n",
    "BC -> B\n",
    "CC -> N\n",
    "CN -> C\n",
    "'''"
   ]
  },
  {
   "cell_type": "code",
   "execution_count": 55,
   "id": "a55e7360-2f89-4cd5-83a2-36d8ae731f65",
   "metadata": {},
   "outputs": [],
   "source": [
    "a, b = raw_input.split('\\n\\n')\n",
    "c = [item.split(' -> ') for item in b.rstrip().split('\\n')]\n",
    "mapping = {f[0]: f[1] for f in c}\n",
    "\n"
   ]
  },
  {
   "cell_type": "code",
   "execution_count": 5,
   "id": "18b9030c-c680-4016-bb1e-98414882214b",
   "metadata": {},
   "outputs": [],
   "source": [
    "poly = a\n",
    "\n",
    "\n",
    "for _ in range(10):\n",
    "    first = poly[0]\n",
    "    tail = first\n",
    "\n",
    "    for d in poly[1:]:\n",
    "        # tail += first\n",
    "        tail += e[first + d]\n",
    "        tail += d\n",
    "        first = d\n",
    "\n",
    "    poly = tail\n",
    "    \n",
    "# poly"
   ]
  },
  {
   "cell_type": "code",
   "execution_count": 56,
   "id": "0947c091-c3b5-493f-8ca5-dcafc3d87524",
   "metadata": {},
   "outputs": [
    {
     "data": {
      "text/plain": [
       "defaultdict(int,\n",
       "            {'KO': 326797322158,\n",
       "             'OB': 299763244182,\n",
       "             'BO': 210502333214,\n",
       "             'OH': 320499848854,\n",
       "             'HN': 343614924681,\n",
       "             'NN': 687252746067,\n",
       "             'NO': 1030881044200,\n",
       "             'OS': 262550590243,\n",
       "             'SV': 129958339751,\n",
       "             'VP': 181520955595,\n",
       "             'PH': 160243674600,\n",
       "             'HK': 218746558367,\n",
       "             'KF': 362254650945,\n",
       "             'FS': 497953183461,\n",
       "             'SB': 535423669810,\n",
       "             'BV': 714137559888,\n",
       "             'VK': 405875274597,\n",
       "             'KB': 291355383899,\n",
       "             'VO': 616366843830,\n",
       "             'OO': 308186344549,\n",
       "             'ON': 474897575125,\n",
       "             'NS': 326543648939,\n",
       "             'SF': 238650055755,\n",
       "             'FV': 355507965269,\n",
       "             'VC': 321754582161,\n",
       "             'CP': 206259743950,\n",
       "             'PP': 80119532545,\n",
       "             'OF': 418579059593,\n",
       "             'FN': 365501779956,\n",
       "             'OC': 498383907849,\n",
       "             'CF': 219304194718,\n",
       "             'VN': 182745383234,\n",
       "             'BN': 256088693841,\n",
       "             'SN': 284892088652,\n",
       "             'NH': 387031553616,\n",
       "             'BK': 357052524638,\n",
       "             'KV': 357052524638,\n",
       "             'FF': 160884255411,\n",
       "             'FC': 321763127058,\n",
       "             'CC': 461983706042,\n",
       "             'CS': 425571389201,\n",
       "             'BP': 148115155726,\n",
       "             'PF': 20028762390,\n",
       "             'FB': 406581885140,\n",
       "             'PB': 40059391530,\n",
       "             'HF': 437490847224,\n",
       "             'FK': 109370221409,\n",
       "             'PV': 199331406824,\n",
       "             'BH': 112819646851,\n",
       "             'SS': 248976637876,\n",
       "             'SK': 225958121382,\n",
       "             'KS': 124487316419,\n",
       "             'SP': 216105927758,\n",
       "             'PK': 167661395575,\n",
       "             'KH': 225646802776,\n",
       "             'HS': 62243746833,\n",
       "             'HH': 228409995307,\n",
       "             'OK': 202929904866,\n",
       "             'OV': 259911215188,\n",
       "             'VH': 160245495440,\n",
       "             'HB': 417599610085,\n",
       "             'VS': 91376523410,\n",
       "             'NB': 163284198732,\n",
       "             'BS': 227304033848,\n",
       "             'SH': 387042229246,\n",
       "             'BF': 128047435372,\n",
       "             'VF': 287008753355,\n",
       "             'CV': 230994800064,\n",
       "             'PC': 79798538088,\n",
       "             'HO': 343619308580,\n",
       "             'PO': 139564211082,\n",
       "             'CO': 69784282836,\n",
       "             'FP': 54685597061,\n",
       "             'CH': 69785744387,\n",
       "             'NF': 2})"
      ]
     },
     "execution_count": 56,
     "metadata": {},
     "output_type": "execute_result"
    }
   ],
   "source": [
    "poly = defaultdict(int)\n",
    "\n",
    "first = a[0]\n",
    "for second in a[1:]:\n",
    "    poly[first + second] += 1\n",
    "    first = second\n",
    "    \n",
    "\n",
    "\n",
    "for _ in range(40):\n",
    "    new = defaultdict(int)\n",
    "    \n",
    "    for pair, count in poly.items():\n",
    "        first, second = pair[0], pair[1]\n",
    "        middle = mapping[pair]\n",
    "        \n",
    "        new[first + middle] += count\n",
    "        new[middle + second] += count\n",
    "    \n",
    "\n",
    "    poly = new\n",
    "    \n",
    "poly"
   ]
  },
  {
   "cell_type": "code",
   "execution_count": 30,
   "id": "c7dc6420-7d73-4e07-8e89-1350e2e5f9e3",
   "metadata": {},
   "outputs": [
    {
     "data": {
      "text/plain": [
       "Counter({'K': 1529,\n",
       "         'O': 2890,\n",
       "         'B': 1928,\n",
       "         'H': 1900,\n",
       "         'N': 2483,\n",
       "         'S': 2097,\n",
       "         'V': 2093,\n",
       "         'P': 822,\n",
       "         'F': 2108,\n",
       "         'C': 1607})"
      ]
     },
     "execution_count": 30,
     "metadata": {},
     "output_type": "execute_result"
    }
   ],
   "source": [
    "c = Counter(poly)\n",
    "c"
   ]
  },
  {
   "cell_type": "code",
   "execution_count": 31,
   "id": "b7362aa9-a8d8-4607-8c90-f332732eb4c9",
   "metadata": {},
   "outputs": [],
   "source": [
    "values = list(sorted(c.values()))"
   ]
  },
  {
   "cell_type": "code",
   "execution_count": 32,
   "id": "59b22b9e-1bec-45b4-b4cd-824b6d5f608e",
   "metadata": {},
   "outputs": [
    {
     "data": {
      "text/plain": [
       "2068"
      ]
     },
     "execution_count": 32,
     "metadata": {},
     "output_type": "execute_result"
    }
   ],
   "source": [
    "values[-1] - values[0]"
   ]
  },
  {
   "cell_type": "code",
   "execution_count": 6,
   "id": "b42ebbbb-dc13-40a7-8ff8-dfb19ef99a07",
   "metadata": {},
   "outputs": [
    {
     "data": {
      "text/plain": [
       "dict_items([('PB', 'F'), ('KC', 'F'), ('OB', 'H'), ('HV', 'N'), ('FS', 'S'), ('CK', 'K'), ('CC', 'V'), ('HF', 'K'), ('VP', 'C'), ('CP', 'S'), ('HO', 'N'), ('OS', 'N'), ('HS', 'O'), ('HB', 'F'), ('OH', 'V'), ('PP', 'B'), ('BS', 'N'), ('VS', 'F'), ('CN', 'B'), ('KB', 'O'), ('KH', 'B'), ('SS', 'K'), ('NS', 'B'), ('BP', 'V'), ('FB', 'S'), ('PV', 'O'), ('NB', 'S'), ('FC', 'F'), ('VB', 'P'), ('PC', 'O'), ('VF', 'K'), ('BV', 'K'), ('OO', 'B'), ('PN', 'N'), ('NH', 'H'), ('SP', 'B'), ('KF', 'O'), ('BN', 'F'), ('OF', 'C'), ('VV', 'H'), ('BB', 'P'), ('KN', 'H'), ('PO', 'C'), ('BH', 'O'), ('HC', 'B'), ('VO', 'O'), ('FV', 'B'), ('PK', 'V'), ('KO', 'H'), ('BK', 'V'), ('SC', 'S'), ('KV', 'B'), ('OV', 'S'), ('HK', 'F'), ('NP', 'V'), ('VH', 'P'), ('OK', 'S'), ('SO', 'C'), ('PF', 'C'), ('SH', 'N'), ('FP', 'V'), ('CS', 'C'), ('HH', 'O'), ('KK', 'P'), ('BF', 'S'), ('NN', 'O'), ('OC', 'C'), ('CB', 'O'), ('BO', 'V'), ('ON', 'F'), ('BC', 'P'), ('NO', 'N'), ('KS', 'H'), ('FF', 'V'), ('FN', 'V'), ('HP', 'N'), ('VC', 'F'), ('OP', 'K'), ('VN', 'S'), ('NV', 'F'), ('SV', 'F'), ('FO', 'V'), ('PS', 'H'), ('VK', 'O'), ('PH', 'P'), ('NF', 'N'), ('KP', 'S'), ('CF', 'S'), ('FK', 'P'), ('FH', 'F'), ('CO', 'H'), ('SN', 'B'), ('NC', 'H'), ('SK', 'P'), ('CV', 'P'), ('CH', 'H'), ('HN', 'N'), ('SB', 'H'), ('NK', 'B'), ('SF', 'H')])"
      ]
     },
     "execution_count": 6,
     "metadata": {},
     "output_type": "execute_result"
    }
   ],
   "source": [
    "e.items()"
   ]
  },
  {
   "cell_type": "code",
   "execution_count": 8,
   "id": "cff77e2b-03c7-4c8b-b629-6b1559c14155",
   "metadata": {},
   "outputs": [
    {
     "data": {
      "text/plain": [
       "1"
      ]
     },
     "execution_count": 8,
     "metadata": {},
     "output_type": "execute_result"
    }
   ],
   "source": [
    "a = [1, 2]\n",
    "\n",
    "b, c = a\n",
    "b"
   ]
  },
  {
   "cell_type": "code",
   "execution_count": 57,
   "id": "e9a1d6cb-afd5-44c0-a6ee-529a8b63b4e5",
   "metadata": {},
   "outputs": [
    {
     "data": {
      "text/plain": [
       "Counter({'K': 1687594000835,\n",
       "         'O': 3045701690449,\n",
       "         'B': 2154067383378,\n",
       "         'H': 2051724991077,\n",
       "         'N': 2594993191556,\n",
       "         'S': 2267007070230,\n",
       "         'V': 2246893811622,\n",
       "         'P': 886806912635,\n",
       "         'F': 2272248014765,\n",
       "         'C': 1683683861198})"
      ]
     },
     "execution_count": 57,
     "metadata": {},
     "output_type": "execute_result"
    }
   ],
   "source": [
    "counts = defaultdict(int)\n",
    "\n",
    "for key, value in poly.items():\n",
    "    first, second = key[0], key[1]\n",
    "    counts[first] += value\n",
    "    # counts[second] += value\n",
    "\n",
    "counts[a[-1]] += 1\n",
    "    \n",
    "counts = Counter(counts)\n",
    "    \n",
    "# counts.most_common()[0], counts.most_common()[-1]\n",
    "counts"
   ]
  },
  {
   "cell_type": "code",
   "execution_count": 58,
   "id": "2b6d1742-1629-453b-b191-1469da89a3b9",
   "metadata": {},
   "outputs": [
    {
     "data": {
      "text/plain": [
       "2158894777814"
      ]
     },
     "execution_count": 58,
     "metadata": {},
     "output_type": "execute_result"
    }
   ],
   "source": [
    "counts.most_common()[0][1] - counts.most_common()[-1][1]"
   ]
  },
  {
   "cell_type": "code",
   "execution_count": null,
   "id": "e7497dbf-0bfb-4451-a236-31c375b39f16",
   "metadata": {},
   "outputs": [],
   "source": []
  }
 ],
 "metadata": {
  "kernelspec": {
   "display_name": "Python 3 (ipykernel)",
   "language": "python",
   "name": "python3"
  },
  "language_info": {
   "codemirror_mode": {
    "name": "ipython",
    "version": 3
   },
   "file_extension": ".py",
   "mimetype": "text/x-python",
   "name": "python",
   "nbconvert_exporter": "python",
   "pygments_lexer": "ipython3",
   "version": "3.9.5"
  }
 },
 "nbformat": 4,
 "nbformat_minor": 5
}
