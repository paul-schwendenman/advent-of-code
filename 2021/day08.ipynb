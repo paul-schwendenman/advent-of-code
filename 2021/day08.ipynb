{
 "cells": [
  {
   "cell_type": "code",
   "execution_count": 1,
   "id": "3cb2895a-e4ee-4d4b-84c1-897484432d13",
   "metadata": {},
   "outputs": [],
   "source": [
    "one = set('cf')\n",
    "two = set('acdeg')\n",
    "# three = set('acdfg')\n",
    "four = set('bdcf')\n",
    "five = set('abdfg')\n",
    "# six = set('abdefg')\n",
    "seven = set('acf')\n",
    "eight = set('abcdefg')\n",
    "# nine = set('abcdfg')\n",
    "# zero = set('abcefg')"
   ]
  },
  {
   "cell_type": "code",
   "execution_count": 2,
   "id": "1755125a-0f6d-419d-85e0-1419fb995c97",
   "metadata": {},
   "outputs": [],
   "source": [
    "two_three_five = [set('acdeg'), set('acdfg'), set('abdfg')]"
   ]
  },
  {
   "cell_type": "code",
   "execution_count": 3,
   "id": "239565b0-797b-421e-9926-bd7900be6d33",
   "metadata": {},
   "outputs": [],
   "source": [
    "six_nine_zero = [set('abdefg'), set('abcdfg'), set('abcefg')]"
   ]
  },
  {
   "cell_type": "code",
   "execution_count": 4,
   "id": "aa72d32a-39ed-4403-9257-4c4b63c5004f",
   "metadata": {},
   "outputs": [
    {
     "data": {
      "text/plain": [
       "{'a'}"
      ]
     },
     "execution_count": 4,
     "metadata": {},
     "output_type": "execute_result"
    }
   ],
   "source": [
    "a = seven - one\n",
    "a"
   ]
  },
  {
   "cell_type": "code",
   "execution_count": 5,
   "id": "feef9508-8a94-4b43-aa47-54499ccf38eb",
   "metadata": {},
   "outputs": [],
   "source": [
    "three = [option for option in two_three_five if one.issubset(option)][0]"
   ]
  },
  {
   "cell_type": "code",
   "execution_count": 6,
   "id": "5234e0ab-c0be-4c1d-8536-27d2f1a6da85",
   "metadata": {},
   "outputs": [
    {
     "data": {
      "text/plain": [
       "{'g'}"
      ]
     },
     "execution_count": 6,
     "metadata": {},
     "output_type": "execute_result"
    }
   ],
   "source": [
    "g = three - four - a\n",
    "g"
   ]
  },
  {
   "cell_type": "code",
   "execution_count": 7,
   "id": "2442cfc1-b264-472d-bd2e-453bd6ec9903",
   "metadata": {},
   "outputs": [],
   "source": [
    "nine = [option for option in six_nine_zero if three | four == option][0]"
   ]
  },
  {
   "cell_type": "code",
   "execution_count": 8,
   "id": "c373eeb6-c85c-4295-b457-1a1ebba262d3",
   "metadata": {},
   "outputs": [
    {
     "data": {
      "text/plain": [
       "{'e'}"
      ]
     },
     "execution_count": 8,
     "metadata": {},
     "output_type": "execute_result"
    }
   ],
   "source": [
    "e = eight - nine\n",
    "e"
   ]
  },
  {
   "cell_type": "code",
   "execution_count": 9,
   "id": "8ab59d97-1d80-4b5a-b55b-1c991b598ffa",
   "metadata": {},
   "outputs": [],
   "source": [
    "two = [option for option in two_three_five if e.issubset(option)][0]"
   ]
  },
  {
   "cell_type": "code",
   "execution_count": 10,
   "id": "5aac3b16-0a24-4559-962e-208592cd2792",
   "metadata": {},
   "outputs": [],
   "source": [
    "five = [option for option in two_three_five if option not in (two, three)][0]"
   ]
  },
  {
   "cell_type": "code",
   "execution_count": 11,
   "id": "ee69ba66-a7c9-4c9b-9bda-2f7202316837",
   "metadata": {},
   "outputs": [
    {
     "data": {
      "text/plain": [
       "{'d'}"
      ]
     },
     "execution_count": 11,
     "metadata": {},
     "output_type": "execute_result"
    }
   ],
   "source": [
    "d = (two & five) - a - g\n",
    "d"
   ]
  },
  {
   "cell_type": "code",
   "execution_count": 12,
   "id": "e9823a91-b3d7-4f8c-9ae4-b01a50c84d2a",
   "metadata": {},
   "outputs": [],
   "source": [
    "zero = [option for option in six_nine_zero if not d.issubset(option)][0]"
   ]
  },
  {
   "cell_type": "code",
   "execution_count": 13,
   "id": "0e61a69b-dd4c-4a98-b83b-357735eaa521",
   "metadata": {},
   "outputs": [],
   "source": [
    "six = [option for option in six_nine_zero if option not in (zero, nine)][0]"
   ]
  },
  {
   "cell_type": "code",
   "execution_count": 14,
   "id": "94bce556-efad-48fd-b018-e927480cd401",
   "metadata": {},
   "outputs": [
    {
     "data": {
      "text/plain": [
       "{'c'}"
      ]
     },
     "execution_count": 14,
     "metadata": {},
     "output_type": "execute_result"
    }
   ],
   "source": [
    "c = eight - six\n",
    "c"
   ]
  },
  {
   "cell_type": "code",
   "execution_count": 15,
   "id": "f5b3d471-89d9-46a3-9dde-0d921e566dd8",
   "metadata": {},
   "outputs": [
    {
     "data": {
      "text/plain": [
       "{'f'}"
      ]
     },
     "execution_count": 15,
     "metadata": {},
     "output_type": "execute_result"
    }
   ],
   "source": [
    "f = one - c\n",
    "f"
   ]
  },
  {
   "cell_type": "code",
   "execution_count": 16,
   "id": "b832dd62-9333-4ff4-8b12-a12d82fd6313",
   "metadata": {},
   "outputs": [
    {
     "data": {
      "text/plain": [
       "{'b'}"
      ]
     },
     "execution_count": 16,
     "metadata": {},
     "output_type": "execute_result"
    }
   ],
   "source": [
    "b = four - one - d\n",
    "b"
   ]
  },
  {
   "cell_type": "code",
   "execution_count": 17,
   "id": "9f1a3fbd-099b-4213-9c5a-488a6aebf2b9",
   "metadata": {},
   "outputs": [],
   "source": [
    "assert one == c | f\n",
    "assert two == a | c | d | e | g\n",
    "assert three == a | c | d | f | g\n",
    "assert four == b | d | c | f\n",
    "assert five == a | b | d| f | g\n",
    "assert six == a | b | d | e | f | g\n",
    "assert seven == a | c | f\n",
    "assert eight == a | b | c | d | e | f | g\n",
    "assert nine == a | b | c | d | f | g\n",
    "assert zero == a | b | c | e | f | g"
   ]
  },
  {
   "cell_type": "code",
   "execution_count": null,
   "id": "25f391ac-d08f-4675-a90d-a4efcd17ad34",
   "metadata": {},
   "outputs": [],
   "source": []
  },
  {
   "cell_type": "code",
   "execution_count": 18,
   "id": "d70db061-6941-4398-a544-6e553bea53be",
   "metadata": {},
   "outputs": [
    {
     "data": {
      "text/plain": [
       "{'a', 'd', 'g'}"
      ]
     },
     "execution_count": 18,
     "metadata": {},
     "output_type": "execute_result"
    }
   ],
   "source": [
    "two & five"
   ]
  },
  {
   "cell_type": "code",
   "execution_count": 19,
   "id": "9ded9b3c-3499-47b8-b27b-015a6d80da62",
   "metadata": {
    "tags": []
   },
   "outputs": [
    {
     "data": {
      "text/plain": [
       "{'a', 'b', 'c', 'd', 'e', 'f', 'g'}"
      ]
     },
     "execution_count": 19,
     "metadata": {},
     "output_type": "execute_result"
    }
   ],
   "source": [
    "two | five"
   ]
  },
  {
   "cell_type": "code",
   "execution_count": 20,
   "id": "3879863d-4079-4d61-8792-5a3ba3ae9e72",
   "metadata": {},
   "outputs": [
    {
     "data": {
      "text/plain": [
       "({'c', 'e'}, {'b', 'f'})"
      ]
     },
     "execution_count": 20,
     "metadata": {},
     "output_type": "execute_result"
    }
   ],
   "source": [
    "two - five, five - two"
   ]
  },
  {
   "cell_type": "code",
   "execution_count": 21,
   "id": "5a310af3-3e4f-4474-8ea4-736dd705e8bc",
   "metadata": {},
   "outputs": [
    {
     "data": {
      "text/plain": [
       "{'b', 'c', 'e', 'f'}"
      ]
     },
     "execution_count": 21,
     "metadata": {},
     "output_type": "execute_result"
    }
   ],
   "source": [
    "two ^ five"
   ]
  },
  {
   "cell_type": "code",
   "execution_count": null,
   "id": "7b5db098-22eb-43e8-93e7-fea59ad3fcfa",
   "metadata": {},
   "outputs": [],
   "source": []
  }
 ],
 "metadata": {
  "kernelspec": {
   "display_name": "Python 3 (ipykernel)",
   "language": "python",
   "name": "python3"
  },
  "language_info": {
   "codemirror_mode": {
    "name": "ipython",
    "version": 3
   },
   "file_extension": ".py",
   "mimetype": "text/x-python",
   "name": "python",
   "nbconvert_exporter": "python",
   "pygments_lexer": "ipython3",
   "version": "3.9.5"
  }
 },
 "nbformat": 4,
 "nbformat_minor": 5
}
